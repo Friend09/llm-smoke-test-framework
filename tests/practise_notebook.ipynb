{
 "cells": [
  {
   "cell_type": "markdown",
   "metadata": {},
   "source": [
    "# PRACTISE: TEST THE CODE\n"
   ]
  },
  {
   "cell_type": "markdown",
   "metadata": {},
   "source": [
    "## CONFIG\n"
   ]
  },
  {
   "cell_type": "code",
   "execution_count": 4,
   "metadata": {},
   "outputs": [],
   "source": [
    "import os\n",
    "from dataclasses import dataclass\n",
    "from typing import List, Optional\n",
    "from dotenv import load_dotenv"
   ]
  },
  {
   "cell_type": "code",
   "execution_count": 5,
   "metadata": {},
   "outputs": [
    {
     "data": {
      "text/plain": [
       "True"
      ]
     },
     "execution_count": 5,
     "metadata": {},
     "output_type": "execute_result"
    }
   ],
   "source": [
    "load_dotenv()"
   ]
  },
  {
   "cell_type": "code",
   "execution_count": 6,
   "metadata": {},
   "outputs": [],
   "source": [
    "# config/config.py\n",
    "import os\n",
    "from dataclasses import dataclass\n",
    "from typing import Optional\n",
    "from dotenv import load_dotenv\n",
    "\n",
    "# Load environment variables from .env file\n",
    "load_dotenv()\n",
    "\n",
    "\n",
    "@dataclass\n",
    "class Config:\n",
    "    \"\"\"Configuration for the LLM Smoke Test Framework.\"\"\"\n",
    "\n",
    "    # Crawler settings\n",
    "    HEADLESS: bool = True\n",
    "    PAGE_LOAD_TIMEOUT: int = 30\n",
    "    CAPTURE_SCREENSHOTS: bool = True\n",
    "    ANALYZE_LAYOUT: bool = True\n",
    "    CHROME_DRIVER_PATH: Optional[str] = None\n",
    "\n",
    "    # Output settings\n",
    "    OUTPUT_DIR: str = \"output\"\n",
    "    BASE_URL: str = \"\"  # Base URL for the application under test\n",
    "\n",
    "    # LLM settings\n",
    "    OPENAI_API_KEY: Optional[str] = None\n",
    "    LLM_MODEL: str = \"gpt-4o-mini\"  # Using non-vision model\n",
    "    LLM_TEMPERATURE: float = 0.0\n",
    "    LLM_MAX_TOKENS: int = 500  # Further reduced for split analysis\n",
    "    LLM_MAX_CONTEXT: int = 8000  # Maximum context size for mini model\n",
    "    VISUAL_ANALYSIS_TOKENS: int = 300  # Specific limit for visual analysis\n",
    "\n",
    "    # Screenshot optimization settings\n",
    "    SCREENSHOT_MAX_DIMENSION: int = 1280  # Maximum dimension in pixels\n",
    "    SCREENSHOT_QUALITY: int = 75  # JPEG quality (1-100)\n",
    "\n",
    "    def __post_init__(self):\n",
    "        \"\"\"Load configuration from environment variables.\"\"\"\n",
    "        # Load from environment variables\n",
    "        self.OPENAI_API_KEY = os.getenv(\"OPENAI_API_KEY\", self.OPENAI_API_KEY)\n",
    "        self.CHROME_DRIVER_PATH = os.getenv(\n",
    "            \"CHROME_DRIVER_PATH\", self.CHROME_DRIVER_PATH\n",
    "        )\n",
    "        self.OUTPUT_DIR = os.getenv(\"OUTPUT_DIR\", self.OUTPUT_DIR)\n",
    "        self.BASE_URL = os.getenv(\"BASE_URL\", self.BASE_URL)\n",
    "        self.LLM_MODEL = os.getenv(\"LLM_MODEL\", self.LLM_MODEL)\n",
    "        self.LLM_TEMPERATURE = float(\n",
    "            os.getenv(\"LLM_TEMPERATURE\", str(self.LLM_TEMPERATURE))\n",
    "        )\n",
    "        self.LLM_MAX_TOKENS = int(os.getenv(\"LLM_MAX_TOKENS\", str(self.LLM_MAX_TOKENS)))\n",
    "\n",
    "        # Create output directories\n",
    "        self._create_output_directories()\n",
    "\n",
    "        self.validate()\n",
    "\n",
    "    def validate(self):\n",
    "        \"\"\"Validate configuration.\"\"\"\n",
    "        if not self.OPENAI_API_KEY:\n",
    "            raise ValueError(\"OPENAI_API_KEY must be set\")\n",
    "\n",
    "    def _create_output_directories(self):\n",
    "        \"\"\"Create all required output directories.\"\"\"\n",
    "        directories = {\n",
    "            \"page_data_path\": os.path.join(self.OUTPUT_DIR, \"page_data\"),\n",
    "            \"analysis_path\": os.path.join(self.OUTPUT_DIR, \"analysis\"),\n",
    "            \"test_scripts_path\": os.path.join(self.OUTPUT_DIR, \"test_scripts\"),\n",
    "            \"screenshots_path\": os.path.join(self.OUTPUT_DIR, \"screenshots\"),\n",
    "        }\n",
    "\n",
    "        for path in directories.values():\n",
    "            os.makedirs(path, exist_ok=True)\n",
    "\n",
    "        # Add directory paths as properties\n",
    "        for name, path in directories.items():\n",
    "            setattr(self, name, path)"
   ]
  },
  {
   "cell_type": "code",
   "execution_count": 7,
   "metadata": {},
   "outputs": [],
   "source": [
    "config = Config()"
   ]
  },
  {
   "cell_type": "markdown",
   "metadata": {},
   "source": [
    "## CORE\n"
   ]
  },
  {
   "cell_type": "markdown",
   "metadata": {},
   "source": [
    "### CRAWLERS\n"
   ]
  },
  {
   "cell_type": "code",
   "execution_count": null,
   "metadata": {
    "vscode": {
     "languageId": "javascript"
    }
   },
   "outputs": [],
   "source": []
  },
  {
   "cell_type": "markdown",
   "metadata": {},
   "source": [
    "### LLM ANALYZER\n"
   ]
  },
  {
   "cell_type": "markdown",
   "metadata": {},
   "source": [
    "## OUTPUT\n"
   ]
  },
  {
   "cell_type": "code",
   "execution_count": null,
   "metadata": {},
   "outputs": [],
   "source": []
  },
  {
   "cell_type": "markdown",
   "metadata": {},
   "source": [
    "## TESTS\n"
   ]
  },
  {
   "cell_type": "code",
   "execution_count": null,
   "metadata": {},
   "outputs": [],
   "source": []
  }
 ],
 "metadata": {
  "kernelspec": {
   "display_name": ".venv",
   "language": "python",
   "name": "python3"
  },
  "language_info": {
   "codemirror_mode": {
    "name": "ipython",
    "version": 3
   },
   "file_extension": ".py",
   "mimetype": "text/x-python",
   "name": "python",
   "nbconvert_exporter": "python",
   "pygments_lexer": "ipython3",
   "version": "3.11.11"
  }
 },
 "nbformat": 4,
 "nbformat_minor": 2
}
